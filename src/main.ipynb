{
 "cells": [
  {
   "cell_type": "markdown",
   "id": "b5532572",
   "metadata": {},
   "source": [
    "# Phantom-DB"
   ]
  },
  {
   "cell_type": "markdown",
   "id": "1138ae70",
   "metadata": {},
   "source": [
    "## Module Import"
   ]
  },
  {
   "cell_type": "code",
   "execution_count": 4,
   "id": "867be02f",
   "metadata": {},
   "outputs": [],
   "source": [
    "import os\n",
    "import sys"
   ]
  },
  {
   "cell_type": "code",
   "execution_count": 5,
   "id": "61ec7ce3",
   "metadata": {},
   "outputs": [
    {
     "name": "stdout",
     "output_type": "stream",
     "text": [
      "Connecting to database: {'host': 'localhost', 'port': 5432, 'database': 'phantom_db', 'user': 'phantom_admin', 'client_encoding': 'UTF8'}\n",
      "No duplicates found. Ready to import.\n"
     ]
    },
    {
     "name": "stderr",
     "output_type": "stream",
     "text": [
      "2025-04-04 14:29:22,101 - importer.people_importer - INFO - Successfully imported 1571 people records\n"
     ]
    },
    {
     "name": "stdout",
     "output_type": "stream",
     "text": [
      "Successfully imported 1571 people records.\n"
     ]
    }
   ],
   "source": [
    "# Add src to path\n",
    "sys.path.append(os.path.abspath(\"src\"))\n",
    "\n",
    "# Import modules\n",
    "from utils.config_parser import ConfigParser\n",
    "from importer.people_importer import PeopleImporter\n",
    "\n",
    "# Initialize config parser\n",
    "config = ConfigParser()\n",
    "\n",
    "# Get database credentials\n",
    "db_params = config.get_db_credentials()\n",
    "\n",
    "# Print connection info (without password)\n",
    "connection_info = {k: v for k, v in db_params.items() if k != 'password'}\n",
    "print(f\"Connecting to database: {connection_info}\")\n",
    "\n",
    "# Path to people data\n",
    "people_csv = os.path.join('../', 'data', 'raw', 'people.csv')\n",
    "\n",
    "# Initialize people importer\n",
    "people_importer = PeopleImporter(db_params)\n",
    "\n",
    "# Check for duplicates\n",
    "_, duplicates = people_importer.import_people(people_csv, check_only=True)\n",
    "\n",
    "if duplicates:\n",
    "    print(f\"Found {len(duplicates)} potential duplicates:\")\n",
    "    for dup in duplicates:\n",
    "        print(f\"Existing: {dup['existing_name']} {dup['existing_surname']} (ID: {dup['existing_id']})\")\n",
    "        print(f\"New: {dup['new_name']} {dup['new_surname']}\")\n",
    "        print(\"---\")\n",
    "else:\n",
    "    print(\"No duplicates found. Ready to import.\")\n",
    "\n",
    "# Only proceed if no duplicates were found\n",
    "if not duplicates:\n",
    "    imported_count, _ = people_importer.import_people(people_csv)\n",
    "    print(f\"Successfully imported {imported_count} people records.\")\n",
    "else:\n",
    "    print(\"Please resolve duplicates before importing.\")"
   ]
  },
  {
   "cell_type": "code",
   "execution_count": null,
   "id": "d9c02655",
   "metadata": {},
   "outputs": [],
   "source": []
  }
 ],
 "metadata": {
  "kernelspec": {
   "display_name": ".venv",
   "language": "python",
   "name": "python3"
  },
  "language_info": {
   "codemirror_mode": {
    "name": "ipython",
    "version": 3
   },
   "file_extension": ".py",
   "mimetype": "text/x-python",
   "name": "python",
   "nbconvert_exporter": "python",
   "pygments_lexer": "ipython3",
   "version": "3.10.6"
  }
 },
 "nbformat": 4,
 "nbformat_minor": 5
}
